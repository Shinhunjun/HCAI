{
  "cells": [
    {
      "cell_type": "code",
      "execution_count": 1,
      "metadata": {},
      "outputs": [],
      "source": [
        "import pandas as pd\n",
        "import io\n"
      ]
    },
    {
      "cell_type": "markdown",
      "metadata": {},
      "source": [
        "## Data Loading\n",
        "\n",
        "Loading the CSV data with proper quoting for the 'details' column\n"
      ]
    },
    {
      "cell_type": "code",
      "execution_count": 19,
      "metadata": {},
      "outputs": [
        {
          "data": {
            "text/html": [
              "<div>\n",
              "<style scoped>\n",
              "    .dataframe tbody tr th:only-of-type {\n",
              "        vertical-align: middle;\n",
              "    }\n",
              "\n",
              "    .dataframe tbody tr th {\n",
              "        vertical-align: top;\n",
              "    }\n",
              "\n",
              "    .dataframe thead th {\n",
              "        text-align: right;\n",
              "    }\n",
              "</style>\n",
              "<table border=\"1\" class=\"dataframe\">\n",
              "  <thead>\n",
              "    <tr style=\"text-align: right;\">\n",
              "      <th></th>\n",
              "      <th>timestamp</th>\n",
              "      <th>userID</th>\n",
              "      <th>sessionID</th>\n",
              "      <th>action</th>\n",
              "      <th>details</th>\n",
              "      <th>session_duration_minutes</th>\n",
              "    </tr>\n",
              "  </thead>\n",
              "  <tbody>\n",
              "    <tr>\n",
              "      <th>0</th>\n",
              "      <td>2025-08-21 09:05:12</td>\n",
              "      <td>user_101</td>\n",
              "      <td>sess_abc</td>\n",
              "      <td>login</td>\n",
              "      <td>success</td>\n",
              "      <td>45</td>\n",
              "    </tr>\n",
              "    <tr>\n",
              "      <th>1</th>\n",
              "      <td>2025-08-21 09:06:20</td>\n",
              "      <td>user_101</td>\n",
              "      <td>sess_abc</td>\n",
              "      <td>view_dashboard</td>\n",
              "      <td>project_alpha</td>\n",
              "      <td>45</td>\n",
              "    </tr>\n",
              "    <tr>\n",
              "      <th>2</th>\n",
              "      <td>2025-08-21 09:07:31</td>\n",
              "      <td>user_101</td>\n",
              "      <td>sess_abc</td>\n",
              "      <td>create_task</td>\n",
              "      <td>{\"task_name\": \"Draft Q3 Report\"}</td>\n",
              "      <td>45</td>\n",
              "    </tr>\n",
              "    <tr>\n",
              "      <th>3</th>\n",
              "      <td>2025-08-21 09:07:55</td>\n",
              "      <td>user_101</td>\n",
              "      <td>sess_abc</td>\n",
              "      <td>create_subtask</td>\n",
              "      <td>{\"parent_task\": \"Draft Q3 Report\", \"subtask_na...</td>\n",
              "      <td>45</td>\n",
              "    </tr>\n",
              "    <tr>\n",
              "      <th>4</th>\n",
              "      <td>2025-08-21 09:08:21</td>\n",
              "      <td>user_101</td>\n",
              "      <td>sess_abc</td>\n",
              "      <td>create_subtask</td>\n",
              "      <td>{\"parent_task\": \"Draft Q3 Report\", \"subtask_na...</td>\n",
              "      <td>45</td>\n",
              "    </tr>\n",
              "  </tbody>\n",
              "</table>\n",
              "</div>"
            ],
            "text/plain": [
              "             timestamp    userID sessionID          action  \\\n",
              "0  2025-08-21 09:05:12  user_101  sess_abc           login   \n",
              "1  2025-08-21 09:06:20  user_101  sess_abc  view_dashboard   \n",
              "2  2025-08-21 09:07:31  user_101  sess_abc     create_task   \n",
              "3  2025-08-21 09:07:55  user_101  sess_abc  create_subtask   \n",
              "4  2025-08-21 09:08:21  user_101  sess_abc  create_subtask   \n",
              "\n",
              "                                             details  session_duration_minutes  \n",
              "0                                            success                        45  \n",
              "1                                      project_alpha                        45  \n",
              "2                   {\"task_name\": \"Draft Q3 Report\"}                        45  \n",
              "3  {\"parent_task\": \"Draft Q3 Report\", \"subtask_na...                        45  \n",
              "4  {\"parent_task\": \"Draft Q3 Report\", \"subtask_na...                        45  "
            ]
          },
          "execution_count": 19,
          "metadata": {},
          "output_type": "execute_result"
        }
      ],
      "source": [
        "csv_data = \"/Users/hunjunsin/Desktop/Jun/hcai/hw/4/user_activity_data.csv\"\n",
        "csv_data = csv_data.replace('2s025-08-21', '2025-08-21')\n",
        "\n",
        "df = pd.read_csv(csv_data)\n",
        "df.head()"
      ]
    },
    {
      "cell_type": "markdown",
      "metadata": {},
      "source": [
        "1. What are the 5 most frequently performed actions by users?"
      ]
    },
    {
      "cell_type": "code",
      "execution_count": null,
      "metadata": {},
      "outputs": [
        {
          "name": "stdout",
          "output_type": "stream",
          "text": [
            "Top 5 most frequently performed actions:\n",
            "action\n",
            "create_subtask    7\n",
            "login             5\n",
            "change_view       5\n",
            "logout            5\n",
            "view_dashboard    4\n",
            "Name: count, dtype: int64\n",
            "\n",
            "==================================================\n",
            "\n"
          ]
        }
      ],
      "source": [
        "# \n",
        "top_5_actions = df['action'].value_counts().head(5)\n",
        "print(\"Top 5 most frequently performed actions:\")\n",
        "print(top_5_actions)\n",
        "print(\"\\n\" + \"=\"*50 + \"\\n\")"
      ]
    },
    {
      "cell_type": "markdown",
      "metadata": {},
      "source": [
        "2. What is the average session duration?"
      ]
    },
    {
      "cell_type": "code",
      "execution_count": 12,
      "metadata": {},
      "outputs": [
        {
          "name": "stdout",
          "output_type": "stream",
          "text": [
            "Average session duration: 30.40 minutes\n"
          ]
        }
      ],
      "source": [
        "\n",
        "average_session_duration = df.drop_duplicates(subset='sessionID')['session_duration_minutes'].mean()\n",
        "print(f\"Average session duration: {average_session_duration:.2f} minutes\")\n"
      ]
    },
    {
      "cell_type": "markdown",
      "metadata": {},
      "source": [
        "3. Insight Question: What pattern do you notice happening immediately after a create_task action?"
      ]
    },
    {
      "cell_type": "code",
      "execution_count": 16,
      "metadata": {},
      "outputs": [
        {
          "name": "stdout",
          "output_type": "stream",
          "text": [
            "Actions immediately following a 'create_task' action within the same session:\n",
            "{'create_subtask': 3, 'add_comment': 1}\n",
            "{'create_subtask': 4, 'assign_user': 1, 'logout': 1, 'change_view': 1}\n"
          ]
        }
      ],
      "source": [
        "\n",
        "actions_after_create_task = {}\n",
        "actions_after_create_subtask = {}\n",
        "for i in range(len(df) - 1):\n",
        "    current_action = df.iloc[i]\n",
        "    next_action = df.iloc[i+1]\n",
        "    if current_action['action'] == 'create_task' and current_action['sessionID'] == next_action['sessionID']:\n",
        "        next_action_type = next_action['action']\n",
        "        actions_after_create_task[next_action_type] = actions_after_create_task.get(next_action_type, 0) + 1\n",
        "    if current_action['action'] == 'create_subtask' and current_action['sessionID'] == next_action['sessionID']:\n",
        "        next_action_type = next_action['action']\n",
        "        actions_after_create_subtask[next_action_type] = actions_after_create_subtask.get(next_action_type, 0) + 1\n",
        "\n",
        "print(\"Actions immediately following a 'create_task' action within the same session:\")\n",
        "print(actions_after_create_task)\n",
        "print(actions_after_create_subtask)"
      ]
    },
    {
      "cell_type": "markdown",
      "metadata": {},
      "source": [
        "After create_task action happened, creating sub_task is most likely happening (3 times).\n",
        "And also after create_subtask happen what happen next is also creating the another subtask (4 times)."
      ]
    },
    {
      "cell_type": "markdown",
      "metadata": {},
      "source": [
        "4. Insight Question: User user_108 seems to be exhibiting a specific behavior."
      ]
    },
    {
      "cell_type": "code",
      "execution_count": 18,
      "metadata": {},
      "outputs": [
        {
          "name": "stdout",
          "output_type": "stream",
          "text": [
            "Behavior of user_108:\n",
            "              timestamp    userID sessionID          action        details  \\\n",
            "21  2025-08-21 11:30:50  user_108  sess_jkl           login        success   \n",
            "22  2025-08-21 11:31:20  user_108  sess_jkl  view_dashboard  project_gamma   \n",
            "23  2025-08-21 11:32:00  user_108  sess_jkl     change_view    kanban_view   \n",
            "24  2025-08-21 11:33:00  user_108  sess_jkl     change_view      list_view   \n",
            "25  2025-08-21 11:34:00  user_108  sess_jkl     change_view    kanban_view   \n",
            "26  2025-08-21 11:35:50  user_108  sess_jkl          logout        success   \n",
            "\n",
            "    session_duration_minutes  \n",
            "21                         5  \n",
            "22                         5  \n",
            "23                         5  \n",
            "24                         5  \n",
            "25                         5  \n",
            "26                         5  \n"
          ]
        }
      ],
      "source": [
        "user_108_behavior = df[df['userID'] == 'user_108']\n",
        "print(\"Behavior of user_108:\")\n",
        "print(user_108_behavior)"
      ]
    },
    {
      "cell_type": "markdown",
      "metadata": {},
      "source": [
        "The \"Change View\" action occurs frequently, which suggests there might be usability issues with the current view design that could be improved."
      ]
    }
  ],
  "metadata": {
    "kernelspec": {
      "display_name": "hcai_jun",
      "language": "python",
      "name": "python3"
    },
    "language_info": {
      "codemirror_mode": {
        "name": "ipython",
        "version": 3
      },
      "file_extension": ".py",
      "mimetype": "text/x-python",
      "name": "python",
      "nbconvert_exporter": "python",
      "pygments_lexer": "ipython3",
      "version": "3.11.6"
    }
  },
  "nbformat": 4,
  "nbformat_minor": 2
}
