{
 "cells": [
  {
   "cell_type": "markdown",
   "id": "836ac57b",
   "metadata": {},
   "source": [
    "Import Library needed."
   ]
  },
  {
   "cell_type": "code",
   "execution_count": 3,
   "id": "c7492c98",
   "metadata": {},
   "outputs": [
    {
     "name": "stderr",
     "output_type": "stream",
     "text": [
      "[nltk_data] Downloading package vader_lexicon to\n",
      "[nltk_data]     /Users/hunjunsin/nltk_data...\n",
      "[nltk_data]   Package vader_lexicon is already up-to-date!\n"
     ]
    }
   ],
   "source": [
    "import nltk\n",
    "nltk.download('vader_lexicon')\n",
    "\n",
    "import pandas as pd\n",
    "import numpy as np\n",
    "import matplotlib.pyplot as plt\n",
    "import seaborn as sns"
   ]
  },
  {
   "cell_type": "markdown",
   "id": "a096aeb8",
   "metadata": {},
   "source": [
    "Read the Data: Your script should be able to process the provided headline data."
   ]
  },
  {
   "cell_type": "code",
   "execution_count": 6,
   "id": "37820f48",
   "metadata": {},
   "outputs": [],
   "source": [
    "data = pd.read_csv('/Users/hunjunsin/Desktop/Jun/hcai/hw/2/Book1.csv')"
   ]
  },
  {
   "cell_type": "code",
   "execution_count": 7,
   "id": "2eafa4c6",
   "metadata": {},
   "outputs": [
    {
     "data": {
      "text/html": [
       "<div>\n",
       "<style scoped>\n",
       "    .dataframe tbody tr th:only-of-type {\n",
       "        vertical-align: middle;\n",
       "    }\n",
       "\n",
       "    .dataframe tbody tr th {\n",
       "        vertical-align: top;\n",
       "    }\n",
       "\n",
       "    .dataframe thead th {\n",
       "        text-align: right;\n",
       "    }\n",
       "</style>\n",
       "<table border=\"1\" class=\"dataframe\">\n",
       "  <thead>\n",
       "    <tr style=\"text-align: right;\">\n",
       "      <th></th>\n",
       "      <th>era</th>\n",
       "      <th>headline</th>\n",
       "    </tr>\n",
       "  </thead>\n",
       "  <tbody>\n",
       "    <tr>\n",
       "      <th>0</th>\n",
       "      <td>1980s_Boom</td>\n",
       "      <td>The Future is Now: Expert Systems to Revolutio...</td>\n",
       "    </tr>\n",
       "    <tr>\n",
       "      <th>1</th>\n",
       "      <td>1980s_Boom</td>\n",
       "      <td>Intelligent Machines Promise a New Era of Econ...</td>\n",
       "    </tr>\n",
       "    <tr>\n",
       "      <th>2</th>\n",
       "      <td>1980s_Boom</td>\n",
       "      <td>Government Pours Millions into Fifth-Generatio...</td>\n",
       "    </tr>\n",
       "    <tr>\n",
       "      <th>3</th>\n",
       "      <td>1990s_Winter</td>\n",
       "      <td>AI Fails to Deliver: The Unfulfilled Promise o...</td>\n",
       "    </tr>\n",
       "    <tr>\n",
       "      <th>4</th>\n",
       "      <td>1990s_Winter</td>\n",
       "      <td>Funding for AI Research Dries Up Amidst Disapp...</td>\n",
       "    </tr>\n",
       "  </tbody>\n",
       "</table>\n",
       "</div>"
      ],
      "text/plain": [
       "            era                                           headline\n",
       "0    1980s_Boom  The Future is Now: Expert Systems to Revolutio...\n",
       "1    1980s_Boom  Intelligent Machines Promise a New Era of Econ...\n",
       "2    1980s_Boom  Government Pours Millions into Fifth-Generatio...\n",
       "3  1990s_Winter  AI Fails to Deliver: The Unfulfilled Promise o...\n",
       "4  1990s_Winter  Funding for AI Research Dries Up Amidst Disapp..."
      ]
     },
     "execution_count": 7,
     "metadata": {},
     "output_type": "execute_result"
    }
   ],
   "source": [
    "data.head()"
   ]
  },
  {
   "cell_type": "code",
   "execution_count": 19,
   "id": "ac1d75cb",
   "metadata": {},
   "outputs": [
    {
     "name": "stdout",
     "output_type": "stream",
     "text": [
      "<class 'pandas.core.frame.DataFrame'>\n",
      "RangeIndex: 10 entries, 0 to 9\n",
      "Data columns (total 3 columns):\n",
      " #   Column           Non-Null Count  Dtype \n",
      "---  ------           --------------  ----- \n",
      " 0   era              10 non-null     object\n",
      " 1   headline         10 non-null     object\n",
      " 2   sentiment_score  10 non-null     object\n",
      "dtypes: object(3)\n",
      "memory usage: 372.0+ bytes\n"
     ]
    }
   ],
   "source": [
    "data.info()"
   ]
  },
  {
   "cell_type": "markdown",
   "id": "d0760fb0",
   "metadata": {},
   "source": [
    "_____________________"
   ]
  },
  {
   "cell_type": "markdown",
   "id": "604a00b9",
   "metadata": {},
   "source": [
    "Sentiment Anlaysis from the data"
   ]
  },
  {
   "cell_type": "code",
   "execution_count": null,
   "id": "ae73fc31",
   "metadata": {},
   "outputs": [],
   "source": [
    "from nltk.sentiment.vader import SentimentIntensityAnalyzer\n",
    "\n",
    "analyzer = SentimentIntensityAnalyzer()\n",
    "\n",
    "#use the compound score as the sentiment score\n",
    "def get_sent_score(text):\n",
    "    score = analyzer.polarity_scores(text)\n",
    "    return score['compound']\n",
    "\n",
    "data['sentiment_score'] = data['headline'].apply(get_sent_score)\n"
   ]
  },
  {
   "cell_type": "markdown",
   "id": "2d31d2b9",
   "metadata": {},
   "source": [
    "___________________"
   ]
  },
  {
   "cell_type": "markdown",
   "id": "e7a0a3fa",
   "metadata": {},
   "source": [
    "Sentiment Analysis: Use a Python library like TextBlob or NLTK's VADER to analyze the sentiment of each headline. Classify each as positive, negative, or neutral.\n",
    "\n"
   ]
  },
  {
   "cell_type": "code",
   "execution_count": 37,
   "id": "ef2918d2",
   "metadata": {},
   "outputs": [],
   "source": [
    "def map_sentiment(score):\n",
    "    if score >= 0.05:\n",
    "        return 'Positive'\n",
    "    elif score <= -0.05:\n",
    "        return 'Negative'\n",
    "    else:\n",
    "        return 'Neutral'"
   ]
  },
  {
   "cell_type": "code",
   "execution_count": 38,
   "id": "03675407",
   "metadata": {},
   "outputs": [],
   "source": [
    "data['sentiment'] = data['sentiment_score'].apply(map_sentiment)\n"
   ]
  },
  {
   "cell_type": "code",
   "execution_count": 44,
   "id": "3e30d0c7",
   "metadata": {},
   "outputs": [
    {
     "data": {
      "text/html": [
       "<div>\n",
       "<style scoped>\n",
       "    .dataframe tbody tr th:only-of-type {\n",
       "        vertical-align: middle;\n",
       "    }\n",
       "\n",
       "    .dataframe tbody tr th {\n",
       "        vertical-align: top;\n",
       "    }\n",
       "\n",
       "    .dataframe thead th {\n",
       "        text-align: right;\n",
       "    }\n",
       "</style>\n",
       "<table border=\"1\" class=\"dataframe\">\n",
       "  <thead>\n",
       "    <tr style=\"text-align: right;\">\n",
       "      <th></th>\n",
       "      <th>era</th>\n",
       "      <th>headline</th>\n",
       "      <th>sentiment</th>\n",
       "    </tr>\n",
       "  </thead>\n",
       "  <tbody>\n",
       "    <tr>\n",
       "      <th>0</th>\n",
       "      <td>1980s_Boom</td>\n",
       "      <td>The Future is Now: Expert Systems to Revolutio...</td>\n",
       "      <td>Neutral</td>\n",
       "    </tr>\n",
       "    <tr>\n",
       "      <th>1</th>\n",
       "      <td>1980s_Boom</td>\n",
       "      <td>Intelligent Machines Promise a New Era of Econ...</td>\n",
       "      <td>Positive</td>\n",
       "    </tr>\n",
       "    <tr>\n",
       "      <th>2</th>\n",
       "      <td>1980s_Boom</td>\n",
       "      <td>Government Pours Millions into Fifth-Generatio...</td>\n",
       "      <td>Neutral</td>\n",
       "    </tr>\n",
       "    <tr>\n",
       "      <th>3</th>\n",
       "      <td>1990s_Winter</td>\n",
       "      <td>AI Fails to Deliver: The Unfulfilled Promise o...</td>\n",
       "      <td>Negative</td>\n",
       "    </tr>\n",
       "    <tr>\n",
       "      <th>4</th>\n",
       "      <td>1990s_Winter</td>\n",
       "      <td>Funding for AI Research Dries Up Amidst Disapp...</td>\n",
       "      <td>Negative</td>\n",
       "    </tr>\n",
       "    <tr>\n",
       "      <th>5</th>\n",
       "      <td>1990s_Winter</td>\n",
       "      <td>Expert Systems Deemed Too Brittle for Real-Wor...</td>\n",
       "      <td>Neutral</td>\n",
       "    </tr>\n",
       "    <tr>\n",
       "      <th>6</th>\n",
       "      <td>2020s_GenAI_Boom</td>\n",
       "      <td>Generative AI Set to Add Trillions to the Glob...</td>\n",
       "      <td>Neutral</td>\n",
       "    </tr>\n",
       "    <tr>\n",
       "      <th>7</th>\n",
       "      <td>2020s_GenAI_Boom</td>\n",
       "      <td>Breakthroughs in Large Language Models Astonis...</td>\n",
       "      <td>Neutral</td>\n",
       "    </tr>\n",
       "    <tr>\n",
       "      <th>8</th>\n",
       "      <td>2020s_GenAI_Boom</td>\n",
       "      <td>Is Artificial General Intelligence Finally Wit...</td>\n",
       "      <td>Positive</td>\n",
       "    </tr>\n",
       "    <tr>\n",
       "      <th>9</th>\n",
       "      <td>2020s_GenAI_Boom</td>\n",
       "      <td>Concerns Mount Over AI Job Displacement and Au...</td>\n",
       "      <td>Neutral</td>\n",
       "    </tr>\n",
       "  </tbody>\n",
       "</table>\n",
       "</div>"
      ],
      "text/plain": [
       "                era                                           headline  \\\n",
       "0        1980s_Boom  The Future is Now: Expert Systems to Revolutio...   \n",
       "1        1980s_Boom  Intelligent Machines Promise a New Era of Econ...   \n",
       "2        1980s_Boom  Government Pours Millions into Fifth-Generatio...   \n",
       "3      1990s_Winter  AI Fails to Deliver: The Unfulfilled Promise o...   \n",
       "4      1990s_Winter  Funding for AI Research Dries Up Amidst Disapp...   \n",
       "5      1990s_Winter  Expert Systems Deemed Too Brittle for Real-Wor...   \n",
       "6  2020s_GenAI_Boom  Generative AI Set to Add Trillions to the Glob...   \n",
       "7  2020s_GenAI_Boom  Breakthroughs in Large Language Models Astonis...   \n",
       "8  2020s_GenAI_Boom  Is Artificial General Intelligence Finally Wit...   \n",
       "9  2020s_GenAI_Boom  Concerns Mount Over AI Job Displacement and Au...   \n",
       "\n",
       "  sentiment  \n",
       "0   Neutral  \n",
       "1  Positive  \n",
       "2   Neutral  \n",
       "3  Negative  \n",
       "4  Negative  \n",
       "5   Neutral  \n",
       "6   Neutral  \n",
       "7   Neutral  \n",
       "8  Positive  \n",
       "9   Neutral  "
      ]
     },
     "execution_count": 44,
     "metadata": {},
     "output_type": "execute_result"
    }
   ],
   "source": [
    "data[0:10][['era','headline', 'sentiment']]"
   ]
  },
  {
   "cell_type": "markdown",
   "id": "ffc8e22b",
   "metadata": {},
   "source": [
    "__________________________________________"
   ]
  },
  {
   "cell_type": "markdown",
   "id": "edca0402",
   "metadata": {},
   "source": [
    "Aggregate Results: Calculate the average sentiment score for each era (\"1980s_Boom\", \"1990s_Winter\", \"2020s_GenAI_Boom\")."
   ]
  },
  {
   "cell_type": "code",
   "execution_count": 24,
   "id": "74bb523c",
   "metadata": {},
   "outputs": [
    {
     "data": {
      "text/plain": [
       "era\n",
       "1980s_Boom          0.216200\n",
       "1990s_Winter       -0.334833\n",
       "2020s_GenAI_Boom    0.123475\n",
       "Name: sentiment_score, dtype: float64"
      ]
     },
     "execution_count": 24,
     "metadata": {},
     "output_type": "execute_result"
    }
   ],
   "source": [
    "era_sentiment =data['sentiment_score'].groupby(data['era']).mean()\n",
    "era_sentiment"
   ]
  },
  {
   "cell_type": "markdown",
   "id": "1ef12776",
   "metadata": {},
   "source": [
    "-> Could find that Winter has the lowest score and Boom has the highest score in sentiment score."
   ]
  },
  {
   "cell_type": "code",
   "execution_count": 32,
   "id": "1db50253",
   "metadata": {},
   "outputs": [
    {
     "data": {
      "text/plain": [
       "Index(['1980s_Boom', '1990s_Winter', '2020s_GenAI_Boom'], dtype='object', name='era')"
      ]
     },
     "execution_count": 32,
     "metadata": {},
     "output_type": "execute_result"
    }
   ],
   "source": [
    "era_sentiment.index"
   ]
  },
  {
   "cell_type": "markdown",
   "id": "07f44eb3",
   "metadata": {},
   "source": [
    "_______________"
   ]
  },
  {
   "cell_type": "markdown",
   "id": "2148b7a0",
   "metadata": {},
   "source": [
    "Visualize: Create a simple bar chart using a library like Matplotlib or Seaborn to visualize the average sentiment for each era. The chart should clearly show the \"highs\" of the boom periods and the \"lows\" of the winter."
   ]
  },
  {
   "cell_type": "code",
   "execution_count": null,
   "id": "3792938d",
   "metadata": {},
   "outputs": [
    {
     "data": {
      "image/png": "[encoded data removed]",
      "text/plain": [
       "<Figure size 1200x800 with 1 Axes>"
      ]
     },
     "metadata": {},
     "output_type": "display_data"
    },
    {
     "name": "stdout",
     "output_type": "stream",
     "text": [
      "=== VADER Sentiment Classification ===\n",
      "1980s_Boom: 0.216 → Positive\n",
      "1990s_Winter: -0.335 → Negative\n",
      "2020s_GenAI_Boom: 0.123 → Positive\n"
     ]
    }
   ],
   "source": [
    "plt.figure(figsize=(12, 8))\n",
    "x = era_sentiment.index.tolist()\n",
    "y = era_sentiment.values.tolist()\n",
    "\n",
    "# differentiate by the color\n",
    "colors = []\n",
    "for score in y:\n",
    "    if score >= 0.05:\n",
    "        colors.append('green')  # Positive\n",
    "    elif score <= -0.05:\n",
    "        colors.append('red')    # Negative\n",
    "    else:\n",
    "        colors.append('gray')   # Neutral\n",
    "\n",
    "bars = plt.bar(x, y, color=colors, alpha=0.7, edgecolor='black')\n",
    "\n",
    "# indicate the neutral zone\n",
    "plt.axhspan(-0.05, 0.05, alpha=0.2, color='yellow', label='Neutral Zone')\n",
    "\n",
    "# indicate the 0 line and the threshold\n",
    "plt.axhline(y=0, color='black', linestyle='-', linewidth=2, alpha=0.8)\n",
    "plt.axhline(y=0.05, color='green', linestyle='--', alpha=0.6, label='Positive Threshold')\n",
    "plt.axhline(y=-0.05, color='red', linestyle='--', alpha=0.6, label='Negative Threshold')\n",
    "\n",
    "for bar, value in zip(bars, y):\n",
    "    height = bar.get_height()\n",
    "    plt.text(bar.get_x() + bar.get_width()/2., height + (0.01 if height >= 0 else -0.03),\n",
    "             f'{value:.3f}', ha='center', va='bottom' if height >= 0 else 'top', \n",
    "             fontweight='bold', fontsize=10)\n",
    "\n",
    "plt.xlabel('Era', fontsize=12, fontweight='bold')\n",
    "plt.ylabel('Sentiment Score', fontsize=12, fontweight='bold')\n",
    "plt.title('Sentiment Score by Era (VADER Classification)', fontsize=14, fontweight='bold')\n",
    "plt.legend()\n",
    "plt.grid(axis='y', alpha=0.3)\n",
    "plt.xticks(rotation=45)\n",
    "plt.tight_layout()\n",
    "plt.show()\n",
    "\n",
    "print(\"=== VADER Sentiment Classification ===\")\n",
    "for era, score in zip(x, y):\n",
    "    if score >= 0.05:\n",
    "        classification = \"Positive\"\n",
    "    elif score <= -0.05:\n",
    "        classification = \"Negative\"\n",
    "    else:\n",
    "        classification = \"Neutral\"\n",
    "    print(f\"{era}: {score:.3f} → {classification}\")\n"
   ]
  }
 ],
 "metadata": {
  "kernelspec": {
   "display_name": "hcai_jun",
   "language": "python",
   "name": "python3"
  },
  "language_info": {
   "codemirror_mode": {
    "name": "ipython",
    "version": 3
   },
   "file_extension": ".py",
   "mimetype": "text/x-python",
   "name": "python",
   "nbconvert_exporter": "python",
   "pygments_lexer": "ipython3",
   "version": "3.11.6"
  }
 },
 "nbformat": 4,
 "nbformat_minor": 5
}
